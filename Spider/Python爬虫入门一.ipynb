{
 "cells": [
  {
   "cell_type": "markdown",
   "metadata": {
    "toc": true
   },
   "source": [
    "<h1>Table of Contents<span class=\"tocSkip\"></span></h1>\n",
    "<div class=\"toc\"><ul class=\"toc-item\"></ul></div>"
   ]
  },
  {
   "cell_type": "code",
   "execution_count": 19,
   "metadata": {},
   "outputs": [
    {
     "name": "stdout",
     "output_type": "stream",
     "text": [
      "Server : nginx/1.10.2\n",
      "Date : Sun, 15 Jul 2018 13:10:46 GMT\n",
      "Content-Type : text/html\n",
      "Last-Modified : Tue, 10 Jul 2018 00:11:15 GMT\n",
      "Transfer-Encoding : chunked\n",
      "Connection : keep-alive\n",
      "Vary : Accept-Encoding\n",
      "ETag : W/\"5b43f9a3-28f3\"\n",
      "Strict-Transport-Security : max-age=15768000\n",
      "Content-Encoding : gzip\n"
     ]
    }
   ],
   "source": [
    "## \n",
    "import requests\n",
    "# get请求\n",
    "response = requests.get('https://foofish.net')\n",
    "\n",
    "# 状态码\n",
    "response.status_code\n",
    "\n",
    "# 原因短语\n",
    "response.reason\n",
    "\n",
    "# 响应首部\n",
    "for name,value in response.headers.items():\n",
    "    print('%s : %s' %(name,value))\n",
    "    \n",
    "## 响应内容\n",
    "response.content\n",
    "\n",
    "## 其他http方法\n",
    "r = requests.post('http://httpbin.org/post',data = {'key':'value'})\n",
    "r = requests.put('http://httpbin.org/put',data = {'key':'value'})\n",
    "r = requests.delete('http://httpbin.org/delete')\n",
    "r = requests.head('http://httpbin.org/head')\n",
    "r = requests.options('http://httpbin.org/options')"
   ]
  },
  {
   "cell_type": "code",
   "execution_count": 22,
   "metadata": {},
   "outputs": [
    {
     "data": {
      "text/plain": [
       "'https://buhtig.com/?p=4&s=2'"
      ]
     },
     "execution_count": 22,
     "metadata": {},
     "output_type": "execute_result"
    }
   ],
   "source": [
    "## 构建请求查询参数\n",
    "args = {'p': 4, 's': 2}\n",
    "response = requests.get('http://fav.foofish.net',params = args)\n",
    "response.url"
   ]
  },
  {
   "cell_type": "code",
   "execution_count": 24,
   "metadata": {},
   "outputs": [
    {
     "data": {
      "text/plain": [
       "<Response [200]>"
      ]
     },
     "execution_count": 24,
     "metadata": {},
     "output_type": "execute_result"
    }
   ],
   "source": [
    "#构建请求首部\n",
    "r = requests.get(url, headers={'user-agent': 'Mozilla/5.0'})\n",
    "r"
   ]
  },
  {
   "cell_type": "code",
   "execution_count": 27,
   "metadata": {},
   "outputs": [
    {
     "data": {
      "text/plain": [
       "<Response [200]>"
      ]
     },
     "execution_count": 27,
     "metadata": {},
     "output_type": "execute_result"
    }
   ],
   "source": [
    "## 构建POST请求数据\n",
    "\n",
    "#1 、表单数据\n",
    "payload = {'key1': 'value1', 'key2': 'value2'}\n",
    "r = requests.post('http://httpbin.org/post', data = payload)\n",
    "r\n",
    "#2、json 格式\n",
    "import json\n",
    "url = 'http://httpbin.org/post'\n",
    "payload = {'some': 'data'}\n",
    "r = requests.post(url, json = payload)\n",
    "r"
   ]
  },
  {
   "cell_type": "code",
   "execution_count": 31,
   "metadata": {
    "collapsed": true
   },
   "outputs": [],
   "source": [
    "## Response 中的响应体\n",
    "# 1、content 是 byte 类型\n",
    "r = requests.get('http://t2.hddhhn.com/uploads/tu/20150700/hz53qooggno.jpg')\n",
    "type(r.content)\n",
    "with open('test.jpg','wb') as f:\n",
    "    f.write(r.content)"
   ]
  },
  {
   "cell_type": "code",
   "execution_count": 39,
   "metadata": {},
   "outputs": [
    {
     "data": {
      "text/plain": [
       "[]"
      ]
     },
     "execution_count": 39,
     "metadata": {},
     "output_type": "execute_result"
    }
   ],
   "source": [
    "#2 、text 是str\n",
    "import re\n",
    "r = requests.get('http://foofish.net/understand-http.html')\n",
    "type(r)\n",
    "re.compile('xx').findall(r.text)\n",
    "# r.text\n"
   ]
  },
  {
   "cell_type": "code",
   "execution_count": 40,
   "metadata": {},
   "outputs": [
    {
     "data": {
      "text/plain": [
       "[{'content': '在外面喝了点酒骑着电动车回小区出租屋，头有点醉晕晕，把小区停放在路边停车位的汽车撞划伤了，我没有管，直接回宿舍睡觉了，刚被派出所警察和车主敲门，划定责任，怪我，让我们协商处理，现在车主坚持让我去 4s 店维修，并且说我是肇事逃逸，罪加一等，我可以不去 4s 店修吗？我答应给他修，去外面的汽修店或者修理厂可以吗？车主让我明天就给他到 4s 店修好，不然每天赔偿他 500 元的误工费，怎么办？我是穷人，我知道责任怪我，我听说 4s 店维修费好贵，能不能不去 4s 店，去外面的修理店维修？实在没辙了，没想到发生这事，求救各位大神',\n",
       "  'content_rendered': '在外面喝了点酒骑着电动车回小区出租屋，头有点醉晕晕，把小区停放在路边停车位的汽车撞划伤了，我没有管，直接回宿舍睡觉了，刚被派出所警察和车主敲门，划定责任，怪我，让我们协商处理，现在车主坚持让我去 4s 店维修，并且说我是肇事逃逸，罪加一等，我可以不去 4s 店修吗？我答应给他修，去外面的汽修店或者修理厂可以吗？车主让我明天就给他到 4s 店修好，不然每天赔偿他 500 元的误工费，怎么办？我是穷人，我知道责任怪我，我听说 4s 店维修费好贵，能不能不去 4s 店，去外面的修理店维修？实在没辙了，没想到发生这事，求救各位大神',\n",
       "  'created': 1531591383,\n",
       "  'id': 470978,\n",
       "  'last_modified': 1531591383,\n",
       "  'last_touched': 1531661857,\n",
       "  'member': {'avatar_large': '//cdn.v2ex.com/gravatar/04c36d1a6d0514d955a05d6e1fa9140b?s=73&d=retro',\n",
       "   'avatar_mini': '//cdn.v2ex.com/gravatar/04c36d1a6d0514d955a05d6e1fa9140b?s=24&d=retro',\n",
       "   'avatar_normal': '//cdn.v2ex.com/gravatar/04c36d1a6d0514d955a05d6e1fa9140b?s=48&d=retro',\n",
       "   'id': 230249,\n",
       "   'tagline': '',\n",
       "   'username': 'feral2013'},\n",
       "  'node': {'avatar_large': '//cdn.v2ex.com/navatar/c20a/d4d7/12_large.png?m=1531131572',\n",
       "   'avatar_mini': '//cdn.v2ex.com/navatar/c20a/d4d7/12_mini.png?m=1531131572',\n",
       "   'avatar_normal': '//cdn.v2ex.com/navatar/c20a/d4d7/12_normal.png?m=1531131572',\n",
       "   'id': 12,\n",
       "   'name': 'qna',\n",
       "   'title': '问与答',\n",
       "   'title_alternative': 'Questions and Answers',\n",
       "   'topics': 111429,\n",
       "   'url': 'https://www.v2ex.com/go/qna'},\n",
       "  'replies': 114,\n",
       "  'title': '电动车撞 10 万左右的汽车了，对方车刚买 10 个月左右，汽车车主报警处理了',\n",
       "  'url': 'https://www.v2ex.com/t/470978'},\n",
       " {'content': 'RT。。。试探性问问。。。。。。',\n",
       "  'content_rendered': 'RT。。。试探性问问。。。。。。',\n",
       "  'created': 1531586323,\n",
       "  'id': 470973,\n",
       "  'last_modified': 1531586323,\n",
       "  'last_touched': 1531656633,\n",
       "  'member': {'avatar_large': '//cdn.v2ex.com/avatar/1747/fea8/327608_large.png?m=1531586213',\n",
       "   'avatar_mini': '//cdn.v2ex.com/avatar/1747/fea8/327608_mini.png?m=1531586213',\n",
       "   'avatar_normal': '//cdn.v2ex.com/avatar/1747/fea8/327608_normal.png?m=1531586213',\n",
       "   'id': 327608,\n",
       "   'tagline': '',\n",
       "   'username': '516889994'},\n",
       "  'node': {'avatar_large': '//cdn.v2ex.com/navatar/6f49/22f4/18_large.png?m=1530927715',\n",
       "   'avatar_mini': '//cdn.v2ex.com/navatar/6f49/22f4/18_mini.png?m=1530927715',\n",
       "   'avatar_normal': '//cdn.v2ex.com/navatar/6f49/22f4/18_normal.png?m=1530927715',\n",
       "   'id': 18,\n",
       "   'name': 'shanghai',\n",
       "   'title': '上海',\n",
       "   'title_alternative': 'Shanghai',\n",
       "   'topics': 1359,\n",
       "   'url': 'https://www.v2ex.com/go/shanghai'},\n",
       "  'replies': 89,\n",
       "  'title': '话说有没有在这儿征对象的？',\n",
       "  'url': 'https://www.v2ex.com/t/470973'},\n",
       " {'content': '比如专业术语之类的？\\r\\n不只是程序员的，别的行业也可以，大家来讨论下哈',\n",
       "  'content_rendered': '<p>比如专业术语之类的？\\n不只是程序员的，别的行业也可以，大家来讨论下哈</p>\\n',\n",
       "  'created': 1531620790,\n",
       "  'id': 470996,\n",
       "  'last_modified': 1531620790,\n",
       "  'last_touched': 1531660864,\n",
       "  'member': {'avatar_large': '//cdn.v2ex.com/avatar/c5d9/0533/316973_large.png?m=1531626057',\n",
       "   'avatar_mini': '//cdn.v2ex.com/avatar/c5d9/0533/316973_mini.png?m=1531626057',\n",
       "   'avatar_normal': '//cdn.v2ex.com/avatar/c5d9/0533/316973_normal.png?m=1531626057',\n",
       "   'id': 316973,\n",
       "   'tagline': '',\n",
       "   'username': 'gyp'},\n",
       "  'node': {'avatar_large': '//cdn.v2ex.com/navatar/c20a/d4d7/12_large.png?m=1531131572',\n",
       "   'avatar_mini': '//cdn.v2ex.com/navatar/c20a/d4d7/12_mini.png?m=1531131572',\n",
       "   'avatar_normal': '//cdn.v2ex.com/navatar/c20a/d4d7/12_normal.png?m=1531131572',\n",
       "   'id': 12,\n",
       "   'name': 'qna',\n",
       "   'title': '问与答',\n",
       "   'title_alternative': 'Questions and Answers',\n",
       "   'topics': 111429,\n",
       "   'url': 'https://www.v2ex.com/go/qna'},\n",
       "  'replies': 70,\n",
       "  'title': '大家有哪些我们习以为常，但不了解编程的人却觉得很高大上的词汇？',\n",
       "  'url': 'https://www.v2ex.com/t/470996'},\n",
       " {'content': '敲黑板，是谋生方式！买 22 套房子每天收房租不算！\\r\\n\\r\\n假设得了一种以程序员为主业就会死的病啥的，副业写写代码不会触发。',\n",
       "  'content_rendered': '<p>敲黑板，是谋生方式！买 22 套房子每天收房租不算！</p>\\n<p>假设得了一种以程序员为主业就会死的病啥的，副业写写代码不会触发。</p>\\n',\n",
       "  'created': 1531621520,\n",
       "  'id': 470997,\n",
       "  'last_modified': 1531621520,\n",
       "  'last_touched': 1531661005,\n",
       "  'member': {'avatar_large': '//cdn.v2ex.com/gravatar/c0b4d3bc97c297b9ad044ba06c42d94e?s=73&d=retro',\n",
       "   'avatar_mini': '//cdn.v2ex.com/gravatar/c0b4d3bc97c297b9ad044ba06c42d94e?s=24&d=retro',\n",
       "   'avatar_normal': '//cdn.v2ex.com/gravatar/c0b4d3bc97c297b9ad044ba06c42d94e?s=48&d=retro',\n",
       "   'id': 218666,\n",
       "   'tagline': '',\n",
       "   'username': 'whileFalse'},\n",
       "  'node': {'avatar_large': '//cdn.v2ex.com/navatar/c20a/d4d7/12_large.png?m=1531131572',\n",
       "   'avatar_mini': '//cdn.v2ex.com/navatar/c20a/d4d7/12_mini.png?m=1531131572',\n",
       "   'avatar_normal': '//cdn.v2ex.com/navatar/c20a/d4d7/12_normal.png?m=1531131572',\n",
       "   'id': 12,\n",
       "   'name': 'qna',\n",
       "   'title': '问与答',\n",
       "   'title_alternative': 'Questions and Answers',\n",
       "   'topics': 111429,\n",
       "   'url': 'https://www.v2ex.com/go/qna'},\n",
       "  'replies': 69,\n",
       "  'title': '各位，如果不当程序员，你们会选择什么谋生方式',\n",
       "  'url': 'https://www.v2ex.com/t/470997'},\n",
       " {'content': 'xxxx@redhat.com 感觉好有逼格呀',\n",
       "  'content_rendered': '<p>xxxx@redhat.com 感觉好有逼格呀</p>\\n',\n",
       "  'created': 1531602531,\n",
       "  'id': 470982,\n",
       "  'last_modified': 1531602531,\n",
       "  'last_touched': 1531660657,\n",
       "  'member': {'avatar_large': '//cdn.v2ex.com/gravatar/88bd306a99d428a14c3b3e981a0d4c4d?s=73&d=retro',\n",
       "   'avatar_mini': '//cdn.v2ex.com/gravatar/88bd306a99d428a14c3b3e981a0d4c4d?s=24&d=retro',\n",
       "   'avatar_normal': '//cdn.v2ex.com/gravatar/88bd306a99d428a14c3b3e981a0d4c4d?s=48&d=retro',\n",
       "   'id': 324896,\n",
       "   'tagline': '',\n",
       "   'username': 'scuxhy'},\n",
       "  'node': {'avatar_large': '//cdn.v2ex.com/navatar/6512/bd43/11_large.png?m=1530086822',\n",
       "   'avatar_mini': '//cdn.v2ex.com/navatar/6512/bd43/11_mini.png?m=1530086822',\n",
       "   'avatar_normal': '//cdn.v2ex.com/navatar/6512/bd43/11_normal.png?m=1530086822',\n",
       "   'id': 11,\n",
       "   'name': 'linux',\n",
       "   'title': 'Linux',\n",
       "   'title_alternative': 'Linux',\n",
       "   'topics': 4231,\n",
       "   'url': 'https://www.v2ex.com/go/linux'},\n",
       "  'replies': 61,\n",
       "  'title': '我想要一个这样域名的邮箱，嘤嘤嘤',\n",
       "  'url': 'https://www.v2ex.com/t/470982'},\n",
       " {'content': '## 前言\\r\\n今年医学院校毕业(本科)，工作不容易找，医院要求签五年合同还有两万违约金，感觉没有意思前景不好。\\r\\n然后我表哥现在也是做编程的，他就推荐我来跟着他学，现在刚学一周，来 `v2ex` 上面发篇总结。\\r\\n\\r\\n## 学习感觉\\r\\n第一到三天(变量运算符)感觉不难，第四五天(控制语句,数组)较难。\\r\\n\\r\\n## 学习计划\\r\\n大家好我是他表哥，`v2ex` 账号 @zeromake，`github` 也是 zeromake，这里的学习计划是由我定的，我本身是做 `python`, `golang` 纯后端的。\\r\\n由于他只是想转行工作赚钱，所以我直接推荐他学 `java`。\\r\\n\\r\\n现在是找了一个培训机构的视频教程先让他学基础，日后学完基础，由我指导他进行一些项目练习。\\r\\n白天由他自主学习，晚上我会帮他解惑并总结今天的学习。\\r\\n主要是 `Java Web` 方向，根据我的查找应该学的 web 框架是 `Spring Boot`，`Mybatis`，如果不对请大家推荐。\\r\\n第一周的学习代码我已经让他整理放到 `github` 上了，以后每周都会让他发一篇这样的每周总结。\\r\\n\\r\\n[学习代码地址]( https://github.com/fileffe/java_learn)\\r\\n\\r\\n## 推荐学习方法\\r\\n\\r\\n然后大家有什么推荐的学习方法都推荐给我吧。\\r\\n日后学习完成可能就要在 `v2ex` 和各种地方进行求职。\\r\\n现在比较慌的是没有经验，不好找工作，所以包括求职方面的也给些建议。',\n",
       "  'content_rendered': '<h2>前言</h2>\\n<p>今年医学院校毕业(本科)，工作不容易找，医院要求签五年合同还有两万违约金，感觉没有意思前景不好。\\n然后我表哥现在也是做编程的，他就推荐我来跟着他学，现在刚学一周，来 <code>v2ex</code> 上面发篇总结。</p>\\n<h2>学习感觉</h2>\\n<p>第一到三天(变量运算符)感觉不难，第四五天(控制语句,数组)较难。</p>\\n<h2>学习计划</h2>\\n<p>大家好我是他表哥，<code>v2ex</code> 账号 @zeromake，<code>github</code> 也是 zeromake，这里的学习计划是由我定的，我本身是做 <code>python</code>, <code>golang</code> 纯后端的。\\n由于他只是想转行工作赚钱，所以我直接推荐他学 <code>java</code>。</p>\\n<p>现在是找了一个培训机构的视频教程先让他学基础，日后学完基础，由我指导他进行一些项目练习。\\n白天由他自主学习，晚上我会帮他解惑并总结今天的学习。\\n主要是 <code>Java Web</code> 方向，根据我的查找应该学的 web 框架是 <code>Spring Boot</code>，<code>Mybatis</code>，如果不对请大家推荐。\\n第一周的学习代码我已经让他整理放到 <code>github</code> 上了，以后每周都会让他发一篇这样的每周总结。</p>\\n<p><a href=\"https://github.com/fileffe/java_learn\" rel=\"nofollow\">学习代码地址</a></p>\\n<h2>推荐学习方法</h2>\\n<p>然后大家有什么推荐的学习方法都推荐给我吧。\\n日后学习完成可能就要在 <code>v2ex</code> 和各种地方进行求职。\\n现在比较慌的是没有经验，不好找工作，所以包括求职方面的也给些建议。</p>\\n',\n",
       "  'created': 1531617212,\n",
       "  'id': 470992,\n",
       "  'last_modified': 1531617212,\n",
       "  'last_touched': 1531658883,\n",
       "  'member': {'avatar_large': '//cdn.v2ex.com/gravatar/b652fb367b9c8dcee251c04ee03b36e8?s=73&d=retro',\n",
       "   'avatar_mini': '//cdn.v2ex.com/gravatar/b652fb367b9c8dcee251c04ee03b36e8?s=24&d=retro',\n",
       "   'avatar_normal': '//cdn.v2ex.com/gravatar/b652fb367b9c8dcee251c04ee03b36e8?s=48&d=retro',\n",
       "   'id': 329022,\n",
       "   'tagline': '',\n",
       "   'username': 'fileffe'},\n",
       "  'node': {'avatar_large': '//cdn.v2ex.com/navatar/94f6/d7e0/300_large.png?m=1531219432',\n",
       "   'avatar_mini': '//cdn.v2ex.com/navatar/94f6/d7e0/300_mini.png?m=1531219432',\n",
       "   'avatar_normal': '//cdn.v2ex.com/navatar/94f6/d7e0/300_normal.png?m=1531219432',\n",
       "   'id': 300,\n",
       "   'name': 'programmer',\n",
       "   'title': '程序员',\n",
       "   'title_alternative': 'Programmer',\n",
       "   'topics': 22768,\n",
       "   'url': 'https://www.v2ex.com/go/programmer'},\n",
       "  'replies': 56,\n",
       "  'title': '从零开始学习 Java 第一周总结',\n",
       "  'url': 'https://www.v2ex.com/t/470992'},\n",
       " {'content': '各位过来人大佬指点下如何处理这种观点不同时候的矛盾  \\r\\n可能我做人确实比较怂，有些时候想坚持自己观点却不知道怎么说能让对方理解和接受',\n",
       "  'content_rendered': '<p>各位过来人大佬指点下如何处理这种观点不同时候的矛盾<br>\\n可能我做人确实比较怂，有些时候想坚持自己观点却不知道怎么说能让对方理解和接受</p>\\n',\n",
       "  'created': 1531645287,\n",
       "  'id': 471068,\n",
       "  'last_modified': 1531645399,\n",
       "  'last_touched': 1531661741,\n",
       "  'member': {'avatar_large': '//cdn.v2ex.com/gravatar/8790d7e95cafe12a1da9a06696dff925?s=73&d=retro',\n",
       "   'avatar_mini': '//cdn.v2ex.com/gravatar/8790d7e95cafe12a1da9a06696dff925?s=24&d=retro',\n",
       "   'avatar_normal': '//cdn.v2ex.com/gravatar/8790d7e95cafe12a1da9a06696dff925?s=48&d=retro',\n",
       "   'id': 251417,\n",
       "   'tagline': '',\n",
       "   'username': 'togodo'},\n",
       "  'node': {'avatar_large': '/static/img/node_large.png',\n",
       "   'avatar_mini': '/static/img/node_mini.png',\n",
       "   'avatar_normal': '/static/img/node_normal.png',\n",
       "   'id': 1009,\n",
       "   'name': '2018',\n",
       "   'title': '2018',\n",
       "   'title_alternative': '2018',\n",
       "   'topics': 333,\n",
       "   'url': 'https://www.v2ex.com/go/2018'},\n",
       "  'replies': 53,\n",
       "  'title': '犯了一个大错，跟女朋友讲道理，经常为此矛盾，这次快要把女朋友讲没了',\n",
       "  'url': 'https://www.v2ex.com/t/471068'},\n",
       " {'content': '新入手了一个 iPad，想问一下有什么必装的软件。主要想用来看小说、PDF 和漫画，之前安卓平台一直用的多多猫，苹果这边有类似的软件吗?\\r\\n还有就是自带的输入法没有自然码双拼方案，那么大家用的什么双拼输入法啊？\\r\\n\\r\\n最后，梯子用什么呢？付费和免费的都可以推荐一下。',\n",
       "  'content_rendered': '<p>新入手了一个 iPad，想问一下有什么必装的软件。主要想用来看小说、PDF 和漫画，之前安卓平台一直用的多多猫，苹果这边有类似的软件吗?\\n还有就是自带的输入法没有自然码双拼方案，那么大家用的什么双拼输入法啊？</p>\\n<p>最后，梯子用什么呢？付费和免费的都可以推荐一下。</p>\\n',\n",
       "  'created': 1531627414,\n",
       "  'id': 471022,\n",
       "  'last_modified': 1531627414,\n",
       "  'last_touched': 1531661049,\n",
       "  'member': {'avatar_large': '//cdn.v2ex.com/avatar/91a7/5a93/107335_large.png?m=1452334522',\n",
       "   'avatar_mini': '//cdn.v2ex.com/avatar/91a7/5a93/107335_mini.png?m=1452334522',\n",
       "   'avatar_normal': '//cdn.v2ex.com/avatar/91a7/5a93/107335_normal.png?m=1452334522',\n",
       "   'id': 107335,\n",
       "   'tagline': '',\n",
       "   'username': 'viazure'},\n",
       "  'node': {'avatar_large': '//cdn.v2ex.com/navatar/6cdd/60ea/184_large.png?m=1528790594',\n",
       "   'avatar_mini': '//cdn.v2ex.com/navatar/6cdd/60ea/184_mini.png?m=1528790594',\n",
       "   'avatar_normal': '//cdn.v2ex.com/navatar/6cdd/60ea/184_normal.png?m=1528790594',\n",
       "   'id': 184,\n",
       "   'name': 'apple',\n",
       "   'title': 'Apple',\n",
       "   'title_alternative': 'Apple',\n",
       "   'topics': 5632,\n",
       "   'url': 'https://www.v2ex.com/go/apple'},\n",
       "  'replies': 48,\n",
       "  'title': 'iPad 有什么必装软件可以推荐吗',\n",
       "  'url': 'https://www.v2ex.com/t/471022'},\n",
       " {'content': '是不是只要从谷歌应用市场下的 app 后台占用会好点，不必装黑域？还是说还是要装？\\r\\n第一次用原生请教，谢谢',\n",
       "  'content_rendered': '是不是只要从谷歌应用市场下的 app 后台占用会好点，不必装黑域？还是说还是要装？\\r<br />第一次用原生请教，谢谢',\n",
       "  'created': 1531578022,\n",
       "  'id': 470956,\n",
       "  'last_modified': 1531578022,\n",
       "  'last_touched': 1531660000,\n",
       "  'member': {'avatar_large': '//cdn.v2ex.com/gravatar/23bf25ca6d4df60efc393c6b2cf5fb50?s=73&d=retro',\n",
       "   'avatar_mini': '//cdn.v2ex.com/gravatar/23bf25ca6d4df60efc393c6b2cf5fb50?s=24&d=retro',\n",
       "   'avatar_normal': '//cdn.v2ex.com/gravatar/23bf25ca6d4df60efc393c6b2cf5fb50?s=48&d=retro',\n",
       "   'id': 53361,\n",
       "   'tagline': '',\n",
       "   'username': 'razios'},\n",
       "  'node': {'avatar_large': '//cdn.v2ex.com/navatar/d67d/8ab4/39_large.png?m=1531219506',\n",
       "   'avatar_mini': '//cdn.v2ex.com/navatar/d67d/8ab4/39_mini.png?m=1531219506',\n",
       "   'avatar_normal': '//cdn.v2ex.com/navatar/d67d/8ab4/39_normal.png?m=1531219506',\n",
       "   'id': 39,\n",
       "   'name': 'android',\n",
       "   'title': 'Android',\n",
       "   'title_alternative': 'Android',\n",
       "   'topics': 5483,\n",
       "   'url': 'https://www.v2ex.com/go/android'},\n",
       "  'replies': 45,\n",
       "  'title': '关于安卓原生系统下的国产 app 问题',\n",
       "  'url': 'https://www.v2ex.com/t/470956'},\n",
       " {'content': '如题，余额宝，还有呢？  \\r\\n主要看看保本稳健增长的，  \\r\\n股票之类，基金定投，指数基金顺便看一点点，  \\r\\n博弈的不考虑。',\n",
       "  'content_rendered': '<p>如题，余额宝，还有呢？<br>\\n主要看看保本稳健增长的，<br>\\n股票之类，基金定投，指数基金顺便看一点点，<br>\\n博弈的不考虑。</p>\\n',\n",
       "  'created': 1531635880,\n",
       "  'id': 471049,\n",
       "  'last_modified': 1531635892,\n",
       "  'last_touched': 1531661125,\n",
       "  'member': {'avatar_large': '//cdn.v2ex.com/gravatar/5195d2323d31ef40b3094b03672d9d7d?s=73&d=retro',\n",
       "   'avatar_mini': '//cdn.v2ex.com/gravatar/5195d2323d31ef40b3094b03672d9d7d?s=24&d=retro',\n",
       "   'avatar_normal': '//cdn.v2ex.com/gravatar/5195d2323d31ef40b3094b03672d9d7d?s=48&d=retro',\n",
       "   'id': 212095,\n",
       "   'tagline': '',\n",
       "   'username': 'jssyxzy'},\n",
       "  'node': {'avatar_large': '//cdn.v2ex.com/navatar/94f6/d7e0/300_large.png?m=1531219432',\n",
       "   'avatar_mini': '//cdn.v2ex.com/navatar/94f6/d7e0/300_mini.png?m=1531219432',\n",
       "   'avatar_normal': '//cdn.v2ex.com/navatar/94f6/d7e0/300_normal.png?m=1531219432',\n",
       "   'id': 300,\n",
       "   'name': 'programmer',\n",
       "   'title': '程序员',\n",
       "   'title_alternative': 'Programmer',\n",
       "   'topics': 22768,\n",
       "   'url': 'https://www.v2ex.com/go/programmer'},\n",
       "  'replies': 42,\n",
       "  'title': '程序员有什么好的理财方案？',\n",
       "  'url': 'https://www.v2ex.com/t/471049'}]"
      ]
     },
     "execution_count": 40,
     "metadata": {},
     "output_type": "execute_result"
    }
   ],
   "source": [
    "# 如果使用第三方开放平台或者API接口爬取数据时，返回的内容是json格式的数据时，\n",
    "# 那么可以直接使用json()方法返回一个经过json.loads()处理后的对象。\n",
    "r = requests.get('http://www.v2ex.com/api/topics/hot.json')\n",
    "r.json()"
   ]
  },
  {
   "cell_type": "code",
   "execution_count": 44,
   "metadata": {
    "collapsed": true
   },
   "outputs": [],
   "source": [
    "## 代理设置\n",
    "'''\n",
    " 当爬虫频繁地对服务器进行抓取内容时，很容易被服务器屏蔽掉，\n",
    "因此要想继续顺利的进行爬取数据，使用代理是明智的选择。如果你想\n",
    "爬取墙外的数据，同样设置代理可以解决问题，requests 完美支持代理。\n",
    "这里我用的是本地 ShadowSocks 的代理，\n",
    "（socks协议的代理要这样安装 pip install requests[socks]）\n",
    "'''\n",
    "\n",
    "import requests\n",
    "# proxies = {\n",
    "#      'http':'socks5://127.0.0.0:1080',\n",
    "#      'https':'socks5://127.0.0.1:1080'\n",
    "#  }\n",
    "# requests.get('https://foofis.net',proxies = proxies, timeout = 5)"
   ]
  },
  {
   "cell_type": "code",
   "execution_count": 48,
   "metadata": {
    "collapsed": true
   },
   "outputs": [],
   "source": [
    "## 超时设置\n",
    "'''\n",
    "requests 发送请求时，默认请求下线程一直阻塞，直到有响应返回才处理后面的逻辑。\n",
    "如果遇到服务器没有响应的情况时，问题就变得很严重了，\n",
    "它将导致整个应用程序一直处于阻塞状态而没法处理其他请求。\n",
    "'''\n",
    "import requests\n",
    "# r = requests.get('http://www.google.com')\n",
    "\n",
    "# r = requests.get('http://www.google.com', timeout =5)"
   ]
  },
  {
   "cell_type": "code",
   "execution_count": 49,
   "metadata": {},
   "outputs": [
    {
     "ename": "SyntaxError",
     "evalue": "invalid syntax (<ipython-input-49-67524e1f46e3>, line 5)",
     "output_type": "error",
     "traceback": [
      "\u001b[1;36m  File \u001b[1;32m\"<ipython-input-49-67524e1f46e3>\"\u001b[1;36m, line \u001b[1;32m5\u001b[0m\n\u001b[1;33m    session.post(login_url, data = {username password})\u001b[0m\n\u001b[1;37m                                                    ^\u001b[0m\n\u001b[1;31mSyntaxError\u001b[0m\u001b[1;31m:\u001b[0m invalid syntax\n"
     ]
    }
   ],
   "source": [
    "# 构建会话\n",
    "session = requests.Session()\n",
    "\n",
    "## 登录 url\n",
    "session.post(login_url, data = {username password})\n",
    "\n",
    "## 登录后才能访问 url\n",
    "\n",
    "r = session.get(home_url)\n",
    "\n",
    "session.close()\n"
   ]
  }
 ],
 "metadata": {
  "kernelspec": {
   "display_name": "Python 3",
   "language": "python",
   "name": "python3"
  },
  "language_info": {
   "codemirror_mode": {
    "name": "ipython",
    "version": 3
   },
   "file_extension": ".py",
   "mimetype": "text/x-python",
   "name": "python",
   "nbconvert_exporter": "python",
   "pygments_lexer": "ipython3",
   "version": "3.6.3"
  },
  "toc": {
   "base_numbering": 1,
   "nav_menu": {},
   "number_sections": true,
   "sideBar": true,
   "skip_h1_title": false,
   "title_cell": "Table of Contents",
   "title_sidebar": "Contents",
   "toc_cell": true,
   "toc_position": {},
   "toc_section_display": true,
   "toc_window_display": false
  },
  "varInspector": {
   "cols": {
    "lenName": 16,
    "lenType": 16,
    "lenVar": 40
   },
   "kernels_config": {
    "python": {
     "delete_cmd_postfix": "",
     "delete_cmd_prefix": "del ",
     "library": "var_list.py",
     "varRefreshCmd": "print(var_dic_list())"
    },
    "r": {
     "delete_cmd_postfix": ") ",
     "delete_cmd_prefix": "rm(",
     "library": "var_list.r",
     "varRefreshCmd": "cat(var_dic_list()) "
    }
   },
   "types_to_exclude": [
    "module",
    "function",
    "builtin_function_or_method",
    "instance",
    "_Feature"
   ],
   "window_display": false
  }
 },
 "nbformat": 4,
 "nbformat_minor": 2
}
