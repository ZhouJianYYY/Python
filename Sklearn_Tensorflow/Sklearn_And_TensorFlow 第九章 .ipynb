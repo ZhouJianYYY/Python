{
 "cells": [
  {
   "cell_type": "code",
   "execution_count": 1,
   "metadata": {
    "collapsed": true
   },
   "outputs": [],
   "source": [
    "import numpy as np\n",
    "import os \n",
    "\n",
    "def reset_graph(seed =2):\n",
    "    tf.reset_default_graph()\n",
    "    tf.set_random_seed(seed)\n",
    "    np.random.seed(seed)\n",
    "\n",
    "import matplotlib.pyplot as plt\n",
    "import matplotlib\n",
    "plt.rcParams['axes.labelsize'] = 14\n",
    "plt.rcParams['xtick.labelsize']=12\n",
    "plt.rcParams['ytick.labelsize']=12\n"
   ]
  },
  {
   "cell_type": "code",
   "execution_count": 2,
   "metadata": {},
   "outputs": [
    {
     "name": "stderr",
     "output_type": "stream",
     "text": [
      "C:\\ProgramData\\Anaconda3\\lib\\site-packages\\h5py\\__init__.py:34: FutureWarning: Conversion of the second argument of issubdtype from `float` to `np.floating` is deprecated. In future, it will be treated as `np.float64 == np.dtype(float).type`.\n",
      "  from ._conv import register_converters as _register_converters\n"
     ]
    }
   ],
   "source": [
    "import tensorflow as tf\n",
    "x = tf.Variable(3,name = 'x')\n",
    "y = tf.Variable(4,name = 'y')\n",
    "f = x*x*y + y +2"
   ]
  },
  {
   "cell_type": "code",
   "execution_count": 3,
   "metadata": {},
   "outputs": [
    {
     "data": {
      "text/plain": [
       "<tf.Tensor 'add_1:0' shape=() dtype=int32>"
      ]
     },
     "execution_count": 3,
     "metadata": {},
     "output_type": "execute_result"
    }
   ],
   "source": [
    "f"
   ]
  },
  {
   "cell_type": "code",
   "execution_count": 4,
   "metadata": {
    "collapsed": true
   },
   "outputs": [],
   "source": [
    "## way1\n",
    "sess = tf.Session()\n",
    "sess.run(x.initializer)\n",
    "sess.run(y.initializer)\n",
    "result = sess.run(f)"
   ]
  },
  {
   "cell_type": "code",
   "execution_count": 5,
   "metadata": {},
   "outputs": [
    {
     "name": "stdout",
     "output_type": "stream",
     "text": [
      "42\n"
     ]
    }
   ],
   "source": [
    "print(result)\n",
    "sess.close()"
   ]
  },
  {
   "cell_type": "code",
   "execution_count": 6,
   "metadata": {},
   "outputs": [
    {
     "name": "stdout",
     "output_type": "stream",
     "text": [
      "42\n"
     ]
    }
   ],
   "source": [
    "# way2\n",
    "with tf.Session() as sess:\n",
    "    x.initializer.run()\n",
    "    y.initializer.run()\n",
    "    result=f.eval()\n",
    "print(result)\n"
   ]
  },
  {
   "cell_type": "code",
   "execution_count": 7,
   "metadata": {},
   "outputs": [
    {
     "name": "stdout",
     "output_type": "stream",
     "text": [
      "42\n"
     ]
    }
   ],
   "source": [
    "init = tf.global_variables_initializer()\n",
    "sess =tf.InteractiveSession()\n",
    "init.run()\n",
    "result= f.eval()\n",
    "print(result)\n",
    "sess.close()"
   ]
  },
  {
   "cell_type": "markdown",
   "metadata": {},
   "source": [
    "Managing graphs`"
   ]
  },
  {
   "cell_type": "code",
   "execution_count": 8,
   "metadata": {
    "collapsed": true
   },
   "outputs": [],
   "source": [
    "reset_graph()"
   ]
  },
  {
   "cell_type": "code",
   "execution_count": 9,
   "metadata": {},
   "outputs": [
    {
     "data": {
      "text/plain": [
       "True"
      ]
     },
     "execution_count": 9,
     "metadata": {},
     "output_type": "execute_result"
    }
   ],
   "source": [
    "x1 = tf.Variable(1)\n",
    "x1.graph is tf.get_default_graph()"
   ]
  },
  {
   "cell_type": "code",
   "execution_count": 10,
   "metadata": {},
   "outputs": [
    {
     "data": {
      "text/plain": [
       "True"
      ]
     },
     "execution_count": 10,
     "metadata": {},
     "output_type": "execute_result"
    }
   ],
   "source": [
    "graph = tf.Graph()\n",
    "with graph.as_default():\n",
    "    x2 = tf.Variable(2)\n",
    "x2.graph is graph\n"
   ]
  },
  {
   "cell_type": "code",
   "execution_count": 11,
   "metadata": {},
   "outputs": [
    {
     "data": {
      "text/plain": [
       "False"
      ]
     },
     "execution_count": 11,
     "metadata": {},
     "output_type": "execute_result"
    }
   ],
   "source": [
    "x2.graph is tf.get_default_graph()"
   ]
  },
  {
   "cell_type": "code",
   "execution_count": 12,
   "metadata": {},
   "outputs": [
    {
     "name": "stdout",
     "output_type": "stream",
     "text": [
      "10\n",
      "15\n"
     ]
    }
   ],
   "source": [
    "w = tf.constant(3)\n",
    "x =w+2\n",
    "y=x+5\n",
    "z=x*3\n",
    "with tf.Session() as sess:\n",
    "    print(y.eval())\n",
    "    print(z.eval())"
   ]
  },
  {
   "cell_type": "code",
   "execution_count": 13,
   "metadata": {},
   "outputs": [
    {
     "name": "stdout",
     "output_type": "stream",
     "text": [
      "10\n",
      "15\n"
     ]
    }
   ],
   "source": [
    "with tf.Session() as sess:\n",
    "    y_val, z_val = sess.run([y,z])\n",
    "    print(y_val)\n",
    "    print(z_val)"
   ]
  },
  {
   "cell_type": "markdown",
   "metadata": {
    "collapsed": true
   },
   "source": [
    "线性回归"
   ]
  },
  {
   "cell_type": "code",
   "execution_count": 14,
   "metadata": {
    "collapsed": true
   },
   "outputs": [],
   "source": [
    "import numpy as np\n",
    "from sklearn.datasets import fetch_california_housing\n",
    "housing = fetch_california_housing()\n",
    "m,n  = housing.data.shape\n"
   ]
  },
  {
   "cell_type": "code",
   "execution_count": 15,
   "metadata": {},
   "outputs": [
    {
     "name": "stdout",
     "output_type": "stream",
     "text": [
      "[[-3.7185181e+01]\n",
      " [ 4.3633747e-01]\n",
      " [ 9.3952334e-03]\n",
      " [-1.0711310e-01]\n",
      " [ 6.4479220e-01]\n",
      " [-4.0338000e-06]\n",
      " [-3.7813708e-03]\n",
      " [-4.2348403e-01]\n",
      " [-4.3721911e-01]]\n"
     ]
    }
   ],
   "source": [
    "housing_data_plus_bias =np.c_[np.ones((m,1)),housing.data]\n",
    "X = tf.constant(housing_data_plus_bias,dtype = tf.float32,name = 'X')\n",
    "y = tf.constant(housing.target.reshape(-1,1),dtype = tf.float32,name ='y')\n",
    "XT = tf.transpose(X)\n",
    "theta =tf.matmul(tf.matmul(tf.matrix_inverse(tf.matmul(XT,X)),XT),y)\n",
    "with tf.Session() as sess:\n",
    "    theta_value = theta.eval()\n",
    "print(theta_value)"
   ]
  },
  {
   "cell_type": "code",
   "execution_count": 16,
   "metadata": {
    "collapsed": true
   },
   "outputs": [],
   "source": [
    "from sklearn.preprocessing import scale\n",
    "from sklearn.preprocessing import StandardScaler\n",
    "scaler  = StandardScaler()\n",
    "housing= fetch_california_housing()\n",
    "m,n = housing.data.shape\n",
    "scaled_housing_data = scaler.fit_transform(housing.data)\n",
    "scaled_housing_data_plus_bias = np.c_[np.ones((m,1)),scaled_housing_data]\n",
    "# housing_data_plus_bias = np.c_[np.ones((m,1)),housing.data]\n",
    "# scaled_houing_data_plus_bias =scale(housing_data_plus_bias)\n"
   ]
  },
  {
   "cell_type": "code",
   "execution_count": 17,
   "metadata": {},
   "outputs": [
    {
     "name": "stdout",
     "output_type": "stream",
     "text": [
      "[ 1.00000000e+00  6.60969987e-17  5.50808322e-18  6.60969987e-17\n",
      " -1.06030602e-16 -1.10161664e-17  3.44255201e-18 -1.07958431e-15\n",
      " -8.52651283e-15]\n",
      "[ 0.38915536  0.36424355  0.5116157  ... -0.06612179 -0.06360587\n",
      "  0.01359031]\n",
      "0.11111111111111005\n",
      "(20640, 9)\n"
     ]
    }
   ],
   "source": [
    "print(scaled_housing_data_plus_bias.mean(axis=0))\n",
    "print(scaled_housing_data_plus_bias.mean(axis=1))\n",
    "print(scaled_housing_data_plus_bias.mean())\n",
    "print(scaled_housing_data_plus_bias.shape)\n"
   ]
  },
  {
   "cell_type": "code",
   "execution_count": 18,
   "metadata": {},
   "outputs": [
    {
     "name": "stdout",
     "output_type": "stream",
     "text": [
      "Epoch 0 MSE= 8.142526\n",
      "Epoch 100 MSE= 0.771174\n",
      "Epoch 200 MSE= 0.6109866\n",
      "Epoch 300 MSE= 0.58497435\n",
      "Epoch 400 MSE= 0.56871593\n",
      "Epoch 500 MSE= 0.5569848\n",
      "Epoch 600 MSE= 0.5484222\n",
      "Epoch 700 MSE= 0.54215634\n",
      "Epoch 800 MSE= 0.5375616\n",
      "Epoch 900 MSE= 0.5341845\n"
     ]
    }
   ],
   "source": [
    "reset_graph()\n",
    "\n",
    "n_epochs = 1000\n",
    "learning_rate = 0.01 \n",
    "X = tf.constant(scaled_housing_data_plus_bias,dtype = tf.float32,name = 'X')\n",
    "y = tf.constant(housing.target.reshape(-1,1),dtype = tf.float32,name = 'y')\n",
    "theta = tf.Variable(tf.random_uniform([n+1,1],-1.0,1.0),name = 'theta')\n",
    "#random_uniform()函数在图形中创建一个节点，它将生成包含随机值的张量，给定其形状和值作用域，就像 NumPy 的rand()函数一样。\n",
    "y_pred = tf.matmul(X,theta,name='predictions') ## 计算预测值\n",
    "error = y_pred-y   # 计算误差\n",
    "mse = tf.reduce_mean(tf.square(error),name = 'mse') ## 均方误差\n",
    "gradients = 2/m*tf.matmul(tf.transpose(X),error)   ##梯度下降公式\n",
    "training_op = tf.assign(theta,theta-learning_rate*gradients)\n",
    "#assign()函数创建一个为变量分配新值的节点。 在这种情况下，它实现了批次梯度下降步骤 \n",
    "#\\theta(next step)= \\theta - \\eta  \\nabla_{\\theta}MSE(\\theta)。\n",
    "init = tf.global_variables_initializer()  ## 初始值\n",
    "with tf.Session() as sess:\n",
    "    sess.run(init)\n",
    "    for epoch in range(n_epochs):\n",
    "        if epoch%100 ==0:\n",
    "            print('Epoch',epoch,'MSE=',mse.eval())\n",
    "        sess.run(training_op)\n",
    "    best_theta = theta.eval()"
   ]
  },
  {
   "cell_type": "code",
   "execution_count": 19,
   "metadata": {},
   "outputs": [
    {
     "data": {
      "text/plain": [
       "array([[ 2.0685523 ],\n",
       "       [ 0.83593637],\n",
       "       [ 0.14891674],\n",
       "       [-0.2232562 ],\n",
       "       [ 0.24690312],\n",
       "       [ 0.00638799],\n",
       "       [-0.04201252],\n",
       "       [-0.6740518 ],\n",
       "       [-0.64282006]], dtype=float32)"
      ]
     },
     "execution_count": 19,
     "metadata": {},
     "output_type": "execute_result"
    }
   ],
   "source": [
    "best_theta"
   ]
  },
  {
   "cell_type": "markdown",
   "metadata": {},
   "source": [
    "使用优化器"
   ]
  },
  {
   "cell_type": "code",
   "execution_count": 20,
   "metadata": {},
   "outputs": [
    {
     "name": "stdout",
     "output_type": "stream",
     "text": [
      "Epoch 0 MSE= 10.315513\n",
      "Epoch 100 MSE= 0.92430675\n",
      "Epoch 200 MSE= 0.69249046\n",
      "Epoch 300 MSE= 0.64293706\n",
      "Epoch 400 MSE= 0.6100747\n",
      "Epoch 500 MSE= 0.5864337\n",
      "Epoch 600 MSE= 0.5693433\n",
      "Epoch 700 MSE= 0.5569795\n",
      "Epoch 800 MSE= 0.5480306\n",
      "Epoch 900 MSE= 0.5415503\n",
      "[[ 2.0685523 ]\n",
      " [ 0.73355085]\n",
      " [ 0.14359827]\n",
      " [-0.00385985]\n",
      " [ 0.05406804]\n",
      " [ 0.00578342]\n",
      " [-0.03937989]\n",
      " [-0.8089809 ]\n",
      " [-0.764577  ]]\n"
     ]
    }
   ],
   "source": [
    "\n",
    "X = tf.constant(scaled_housing_data_plus_bias,dtype = tf.float32,name = 'X')\n",
    "y = tf.constant(housing.target.reshape(-1,1),dtype = tf.float32,name = 'y')\n",
    "theta = tf.Variable(tf.random_uniform([n+1,1],-1.0,1.0),name = 'theta')\n",
    "#random_uniform()函数在图形中创建一个节点，它将生成包含随机值的张量，给定其形状和值作用域，就像 NumPy 的rand()函数一样。\n",
    "y_pred = tf.matmul(X,theta,name='predictions') ## 计算预测值\n",
    "error = y_pred-y   # 计算误差\n",
    "mse = tf.reduce_mean(tf.square(error),name = 'mse') ## 均方误差\n",
    "optimizer = tf.train.GradientDescentOptimizer(learning_rate=learning_rate,)\n",
    "training_op = optimizer.minimize(mse)\n",
    "init = tf.global_variables_initializer()  ## 初始值\n",
    "with tf.Session() as sess:\n",
    "    sess.run(init)\n",
    "    for epoch in range(n_epochs):\n",
    "        if epoch%100 ==0:\n",
    "            print('Epoch',epoch,'MSE=',mse.eval())\n",
    "        sess.run(training_op)\n",
    "    best_theta = theta.eval()\n",
    "print(best_theta)"
   ]
  },
  {
   "cell_type": "code",
   "execution_count": 21,
   "metadata": {},
   "outputs": [
    {
     "name": "stdout",
     "output_type": "stream",
     "text": [
      "[[6. 7. 8.]]\n",
      "[[ 9. 10. 11.]\n",
      " [12. 13. 14.]]\n"
     ]
    }
   ],
   "source": [
    "reset_graph()\n",
    "A = tf.placeholder(tf.float32,shape=(None,3))\n",
    "B = A + 5\n",
    "with tf.Session() as sess:\n",
    "    B_val_1 = B.eval(feed_dict = {A:[[1,2,3]]})\n",
    "    B_val_2 = B.eval(feed_dict = {A:[[4,5,6],[7,8,9]]})\n",
    "print(B_val_1)\n",
    "print(B_val_2)"
   ]
  },
  {
   "cell_type": "markdown",
   "metadata": {},
   "source": [
    "MINI_BATCH 完整代码"
   ]
  },
  {
   "cell_type": "code",
   "execution_count": 22,
   "metadata": {},
   "outputs": [
    {
     "name": "stdout",
     "output_type": "stream",
     "text": [
      "数据集：20640行，8列\n",
      "[[ 2.0699353 ]\n",
      " [ 0.82654804]\n",
      " [ 0.12407342]\n",
      " [-0.2272391 ]\n",
      " [ 0.30472216]\n",
      " [ 0.00610354]\n",
      " [-0.01348649]\n",
      " [-0.8570689 ]\n",
      " [-0.82038033]]\n"
     ]
    }
   ],
   "source": [
    "\n",
    "\n",
    "from sklearn.preprocessing import scale\n",
    "import numpy as np\n",
    "from sklearn.preprocessing import StandardScaler\n",
    "import tensorflow as tf\n",
    "\n",
    "\n",
    "housing = fetch_california_housing()\n",
    "m,n = housing.data.shape\n",
    "print('数据集：{}行，{}列'.format(m,n))\n",
    "housing_data_plus_bias = np.c_[np.ones((m,1)),housing.data]\n",
    "scaler = StandardScaler()\n",
    "scaled_housing_data = scaler.fit_transform(housing.data)\n",
    "scaled_housing_data_plus_bias = np.c_[np.ones((m,1)),scaled_housing_data]\n",
    "# scaled_houing_data_plus_bias =scale(housing_data_plus_bias)\n",
    "n_epochs = 10\n",
    "batch_size =100\n",
    "n_batchs = int(np.ceil(m/batch_size))\n",
    "learning_rate = 0.01 \n",
    "X = tf.placeholder(tf.float32,shape = (None,n+1),name = 'X')\n",
    "y = tf.placeholder(tf.float32,shape = (None,1),name ='y')\n",
    "\n",
    "theta = tf.Variable(tf.random_uniform([n+1,1],-1.0,1.0),name = 'theta')\n",
    "#random_uniform()函数在图形中创建一个节点，它将生成包含随机值的张量，给定其形状和值作用域，就像 NumPy 的rand()函数一样。\n",
    "y_pred = tf.matmul(X,theta,name='predictions') ## 计算预测值\n",
    "error = y_pred-y   # 计算误差\n",
    "mse = tf.reduce_mean(tf.square(error),name = 'mse') ## 均方误差\n",
    "optimizer = tf.train.GradientDescentOptimizer(learning_rate=learning_rate,)\n",
    "training_op = optimizer.minimize(mse)\n",
    "init = tf.global_variables_initializer()  ## 初始值\n",
    "## \n",
    "saver = tf.train.Saver()\n",
    "\n",
    "def fetch_batch(epoch,batch_index,batch_size):\n",
    "    know = np.random.seed(epoch*n_batchs + batch_index)\n",
    "#     print('我是know:',know)\n",
    "    indices = np.random.randint(m,size = batch_size)\n",
    "    X_batch = scaled_housing_data_plus_bias[indices]\n",
    "    y_batch = housing.target.reshape(-1,1)[indices]\n",
    "    return X_batch,y_batch\n",
    "\n",
    "\n",
    "with tf.Session() as sess:\n",
    "    sess.run(init)\n",
    "    for epoch in range(n_epochs):\n",
    "        for batch_index in range(n_batchs):\n",
    "            X_batch,y_batch = fetch_batch(epoch,batch_index,batch_size)\n",
    "            sess.run(training_op,feed_dict = {X:X_batch,y:y_batch})\n",
    "    best_theta =theta.eval()\n",
    "#     save_path = saver.save(sess,'C:\\\\Users\\\\Administrator\\\\Desktop\\\\my_model_final.ckpt')\n",
    "print(best_theta)"
   ]
  },
  {
   "cell_type": "code",
   "execution_count": 23,
   "metadata": {
    "collapsed": true
   },
   "outputs": [],
   "source": [
    "def my_func(a,b):\n",
    "    z=0\n",
    "    for i in range(100):\n",
    "        z = a*np.cos(z+i) + z*np.sin(b-i)\n",
    "    return z"
   ]
  },
  {
   "cell_type": "code",
   "execution_count": 24,
   "metadata": {},
   "outputs": [
    {
     "data": {
      "text/plain": [
       "-0.21253923284754914"
      ]
     },
     "execution_count": 24,
     "metadata": {},
     "output_type": "execute_result"
    }
   ],
   "source": [
    "my_func(0.2,0.3)"
   ]
  },
  {
   "cell_type": "markdown",
   "metadata": {},
   "source": [
    "保存和恢复模型"
   ]
  },
  {
   "cell_type": "code",
   "execution_count": 25,
   "metadata": {
    "collapsed": true
   },
   "outputs": [],
   "source": [
    "# with tf.Session() as sess:\n",
    "#     saver.restore(sess,'C:\\\\Users\\\\Administrator\\\\Desktop\\\\my_model_final.ckpt')"
   ]
  },
  {
   "cell_type": "markdown",
   "metadata": {},
   "source": [
    "以下保存器将仅保存或恢复theta变量，它的键名称是weights："
   ]
  },
  {
   "cell_type": "code",
   "execution_count": 26,
   "metadata": {
    "collapsed": true
   },
   "outputs": [],
   "source": [
    "saver = tf.train.Saver({'weights':theta})"
   ]
  },
  {
   "cell_type": "markdown",
   "metadata": {},
   "source": [
    "使用 TensorBoard 展现图形和训练曲线"
   ]
  },
  {
   "cell_type": "code",
   "execution_count": 37,
   "metadata": {
    "scrolled": true
   },
   "outputs": [],
   "source": [
    "import tensorflow as tf\n",
    "import tfgraphviz as tfg\n",
    "\n",
    "# reset_graph()\n",
    "a = tf.constant(1, name=\"a\")\n",
    "b = tf.constant(2, name=\"b\")\n",
    "c = tf.add(a, b, name=\"add\")\n",
    "# tfg.board(tf.get_default_graph())"
   ]
  },
  {
   "cell_type": "code",
   "execution_count": 28,
   "metadata": {
    "collapsed": true
   },
   "outputs": [],
   "source": [
    "from datetime import datetime\n",
    "now = datetime.utcnow().strftime('%Y%m%d%H%M%S')\n",
    "root_logidr = 'tf.logs'\n",
    "logdir = '{}/run-{}/'.format(root_logidr,now)"
   ]
  },
  {
   "cell_type": "code",
   "execution_count": 29,
   "metadata": {},
   "outputs": [
    {
     "name": "stdout",
     "output_type": "stream",
     "text": [
      "数据集：20640行，8列\n",
      "[[ 2.0714476 ]\n",
      " [ 0.8462012 ]\n",
      " [ 0.11558535]\n",
      " [-0.26835832]\n",
      " [ 0.32982782]\n",
      " [ 0.00608358]\n",
      " [ 0.07052915]\n",
      " [-0.87988573]\n",
      " [-0.8634251 ]]\n"
     ]
    }
   ],
   "source": [
    "\n",
    "\n",
    "from sklearn.preprocessing import scale\n",
    "import numpy as np\n",
    "from sklearn.preprocessing import StandardScaler\n",
    "import tensorflow as tf\n",
    "import  tfgraphviz as tfg\n",
    "\n",
    "housing = fetch_california_housing()\n",
    "m,n = housing.data.shape\n",
    "print('数据集：{}行，{}列'.format(m,n))\n",
    "housing_data_plus_bias = np.c_[np.ones((m,1)),housing.data]\n",
    "scaler = StandardScaler()\n",
    "scaled_housing_data = scaler.fit_transform(housing.data)\n",
    "scaled_housing_data_plus_bias = np.c_[np.ones((m,1)),scaled_housing_data]\n",
    "# scaled_houing_data_plus_bias =scale(housing_data_plus_bias)\n",
    "n_epochs = 1000\n",
    "batch_size =100\n",
    "n_batchs = int(np.ceil(m/batch_size))\n",
    "learning_rate = 0.01 \n",
    "X = tf.placeholder(tf.float32,shape = (None,n+1),name = 'X')\n",
    "y = tf.placeholder(tf.float32,shape = (None,1),name ='y')\n",
    "\n",
    "theta = tf.Variable(tf.random_uniform([n+1,1],-1.0,1.0),name = 'theta')\n",
    "#random_uniform()函数在图形中创建一个节点，它将生成包含随机值的张量，给定其形状和值作用域，就像 NumPy 的rand()函数一样。\n",
    "y_pred = tf.matmul(X,theta,name='predictions') ## 计算预测值\n",
    "error = y_pred-y   # 计算误差\n",
    "mse = tf.reduce_mean(tf.square(error),name = 'mse') ## 均方误差\n",
    "optimizer = tf.train.GradientDescentOptimizer(learning_rate=learning_rate,)\n",
    "training_op = optimizer.minimize(mse)\n",
    "init = tf.global_variables_initializer()  ## 初始值\n",
    "## \n",
    "saver = tf.train.Saver()\n",
    "\n",
    "mse_summary = tf.summary.scalar('MSE',mse)\n",
    "# file_writer = tf.summary.FileWriter(logdir,tf.get_default_graph())\n",
    "\n",
    "def fetch_batch(epoch,batch_index,batch_size):\n",
    "    know = np.random.seed(epoch*n_batchs + batch_index)\n",
    "#     print('我是know:',know)\n",
    "    indices = np.random.randint(m,size = batch_size)\n",
    "    X_batch = scaled_housing_data_plus_bias[indices]\n",
    "    y_batch = housing.target.reshape(-1,1)[indices]\n",
    "    return X_batch,y_batch\n",
    "\n",
    "\n",
    "with tf.Session() as sess:\n",
    "    sess.run(init)\n",
    "    for epoch in range(n_epochs):\n",
    "        for batch_index in range(n_batchs):\n",
    "            X_batch,y_batch = fetch_batch(epoch,batch_index,batch_size)\n",
    "            if batch_index%10 ==0:\n",
    "                summary_str = mse_summary.eval(feed_dict={X:X_batch,y:y_batch})\n",
    "                step = epoch*n_batchs +batch_index\n",
    "#                 file_writer.add_summary(summary_str,step)\n",
    "            sess.run(training_op,feed_dict = {X:X_batch,y:y_batch})\n",
    "    best_theta =theta.eval()\n",
    "\n",
    "#     save_path = saver.save(sess,'C:\\\\Users\\\\Administrator\\\\Desktop\\\\my_model_final.ckpt')\n",
    "print(best_theta)\n",
    "# file_writer.close()\n"
   ]
  },
  {
   "cell_type": "code",
   "execution_count": 30,
   "metadata": {},
   "outputs": [
    {
     "name": "stdout",
     "output_type": "stream",
     "text": [
      "C:\\Users\\Administrator\\Desktop\\python 实现机器学习算法\\Sklearn 和 Tensorflow\n"
     ]
    }
   ],
   "source": [
    "import os \n",
    "print(os.getcwd())"
   ]
  },
  {
   "cell_type": "code",
   "execution_count": 31,
   "metadata": {
    "collapsed": true
   },
   "outputs": [],
   "source": [
    "n_features =3\n",
    "X = tf.placeholder(tf.float32,shape = (None,n_features),name = 'X')\n",
    "w1 = tf.Variable(tf.random_normal((n_features,1)),name ='weights1')\n",
    "w2 = tf.Variable(tf.random_normal((n_features,1)),name ='weights2')\n",
    "b1 = tf.Variable(0.0,name='bias1')\n",
    "b2 = tf.Variable(0.0,name='bias2')\n",
    "z1=tf.add(tf.matmul(X,w1),b1,name ='z1')\n",
    "z2=tf.add(tf.matmul(X,w2),b2,name ='z2')\n",
    "relu1 = tf.maximum(z1,0,name ='relu1')\n",
    "relu2 = tf.maximum(z2,0,name ='relu2')\n",
    "output = tf.add(relu1,relu2,name='output')\n"
   ]
  },
  {
   "cell_type": "code",
   "execution_count": 32,
   "metadata": {
    "collapsed": true
   },
   "outputs": [],
   "source": [
    "\n",
    "def relu(X):\n",
    "    w_shape = (int(X.get_shape()[1]),1)\n",
    "    w = tf.Variable(tf.random_normal(w_shape),name = 'weights')\n",
    "    b = tf.Variable(0.0,name='bias')\n",
    "    z = tf.add(tf.matmul(X,w),b,name = 'z')\n",
    "    return tf.maximum(z,0,name='relu')"
   ]
  },
  {
   "cell_type": "code",
   "execution_count": 33,
   "metadata": {
    "collapsed": true
   },
   "outputs": [],
   "source": [
    "n_features =3\n",
    "X = tf.placeholder(tf.float32,shape=(None,n_features),name='X')\n",
    "relus = [relu(X) for i in range(5)]\n",
    "output = tf.add_n(relus,name ='output')\n"
   ]
  },
  {
   "cell_type": "markdown",
   "metadata": {
    "collapsed": true
   },
   "source": [
    "12. Logistic Regression with Mini-Batch Gradient Descent using TensorFlow"
   ]
  },
  {
   "cell_type": "code",
   "execution_count": 34,
   "metadata": {
    "collapsed": true
   },
   "outputs": [],
   "source": [
    "from sklearn.datasets import make_moons\n",
    "m =1000\n",
    "X_moons,y_moons = make_moons(m,noise  =0.1,random_state = 42)"
   ]
  },
  {
   "cell_type": "code",
   "execution_count": 35,
   "metadata": {},
   "outputs": [
    {
     "data": {
      "image/png": "[encoded data removed]",
      "text/plain": [
       "<matplotlib.figure.Figure at 0x1040cdd8>"
      ]
     },
     "metadata": {},
     "output_type": "display_data"
    }
   ],
   "source": [
    "plt.plot(X_moons[y_moons==1,0],X_moons[y_moons==1,1],'go',label = 'Positive')\n",
    "plt.plot(X_moons[y_moons==0,0],X_moons[y_moons==0,1],'ro',label = 'Negetive')\n",
    "plt.legend()\n",
    "plt.show()"
   ]
  },
  {
   "cell_type": "code",
   "execution_count": 74,
   "metadata": {
    "collapsed": true
   },
   "outputs": [],
   "source": [
    "X_moons_with_bias = np.c_[np.ones((m,1)),X_moons]"
   ]
  },
  {
   "cell_type": "code",
   "execution_count": 75,
   "metadata": {},
   "outputs": [
    {
     "data": {
      "text/plain": [
       "array([[ 1.        , -0.05146968,  0.44419863],\n",
       "       [ 1.        ,  1.03201691, -0.41974116],\n",
       "       [ 1.        ,  0.86789186, -0.25482711],\n",
       "       [ 1.        ,  0.288851  , -0.44866862],\n",
       "       [ 1.        , -0.83343911,  0.53505665],\n",
       "       [ 1.        ,  0.61370557, -0.24236929]])"
      ]
     },
     "execution_count": 75,
     "metadata": {},
     "output_type": "execute_result"
    }
   ],
   "source": [
    "X_moons_with_bias[:6]"
   ]
  },
  {
   "cell_type": "code",
   "execution_count": 79,
   "metadata": {
    "collapsed": true
   },
   "outputs": [],
   "source": [
    "y_moons_column_vector = y_moons.reshape(-1,1)"
   ]
  },
  {
   "cell_type": "code",
   "execution_count": 80,
   "metadata": {
    "collapsed": true
   },
   "outputs": [],
   "source": [
    "test_ratio = 0.2\n",
    "test_size = int(m*test_ratio)\n",
    "X_train = X_moons_with_bias[:-test_size]\n",
    "X_test = X_moons_with_bias[-test_size:]\n",
    "y_train = y_moons_column_vector[:-test_size]\n",
    "y_test = y_moons_column_vector[-test_size:]"
   ]
  },
  {
   "cell_type": "code",
   "execution_count": 82,
   "metadata": {
    "collapsed": true
   },
   "outputs": [],
   "source": [
    "def random_batch(X_train,y_train,batch_size):\n",
    "    rnd_indices = np.random.randint(0,len(X_train),batch_size)\n",
    "    X_batch = X_train[rnd_indices]\n",
    "    y_batch = y_train[rnd_indices]\n",
    "    return X_batch,y_batch"
   ]
  },
  {
   "cell_type": "code",
   "execution_count": 83,
   "metadata": {},
   "outputs": [
    {
     "data": {
      "text/plain": [
       "array([[ 1.        ,  0.38886778, -0.31150772],\n",
       "       [ 1.        ,  1.08162225,  0.06752551],\n",
       "       [ 1.        ,  1.30399966, -0.54329461],\n",
       "       [ 1.        ,  0.17055909, -0.24150851],\n",
       "       [ 1.        ,  0.92232459,  0.45163988]])"
      ]
     },
     "execution_count": 83,
     "metadata": {},
     "output_type": "execute_result"
    }
   ],
   "source": [
    "X_batch,y_batch = random_batch(X_train,y_train,5)\n",
    "X_batch"
   ]
  },
  {
   "cell_type": "code",
   "execution_count": 84,
   "metadata": {
    "collapsed": true
   },
   "outputs": [],
   "source": [
    "reset_graph()"
   ]
  },
  {
   "cell_type": "code",
   "execution_count": 85,
   "metadata": {
    "collapsed": true
   },
   "outputs": [],
   "source": [
    "n_input = 2"
   ]
  },
  {
   "cell_type": "code",
   "execution_count": 87,
   "metadata": {
    "collapsed": true
   },
   "outputs": [],
   "source": [
    "X = tf.placeholder(tf.float32,shape=(None,n_input+1),name ='X')\n",
    "y = tf.placeholder(tf.float32,shape = (None,1),name ='y')\n",
    "theta = tf.Variable(tf.random_uniform([n_input+1,1],-1.0,1.0,seed =42),name = 'theta')\n",
    "logits = tf.matmul(X,theta,name ='logits')\n",
    "y_proba = 1/(1+tf.exp(-logits))"
   ]
  },
  {
   "cell_type": "code",
   "execution_count": 89,
   "metadata": {
    "collapsed": true
   },
   "outputs": [],
   "source": [
    "y_proba = tf.sigmoid(logits)"
   ]
  },
  {
   "cell_type": "code",
   "execution_count": 90,
   "metadata": {
    "collapsed": true
   },
   "outputs": [],
   "source": [
    "epsilon = 1e-7\n",
    "loss = -tf.reduce_mean(y*tf.log(y_proba+epsilon)+(1-y)*tf.log(1-y_proba +epsilon))"
   ]
  },
  {
   "cell_type": "code",
   "execution_count": 91,
   "metadata": {
    "collapsed": true
   },
   "outputs": [],
   "source": [
    "loss = tf.losses.log_loss(y,y_proba)"
   ]
  },
  {
   "cell_type": "code",
   "execution_count": 93,
   "metadata": {
    "collapsed": true
   },
   "outputs": [],
   "source": [
    "learning_rate = 0.01\n",
    "optimizer = tf.train.GradientDescentOptimizer(learning_rate= learning_rate)\n",
    "training_op = optimizer.minimize(loss)"
   ]
  },
  {
   "cell_type": "code",
   "execution_count": 95,
   "metadata": {
    "collapsed": true
   },
   "outputs": [],
   "source": [
    "init = tf.global_variables_initializer()"
   ]
  },
  {
   "cell_type": "code",
   "execution_count": 100,
   "metadata": {},
   "outputs": [
    {
     "name": "stdout",
     "output_type": "stream",
     "text": [
      "Epoch: 0 \tLoss 0.88129336\n",
      "Epoch: 100 \tLoss 0.32525185\n",
      "Epoch: 200 \tLoss 0.3000372\n",
      "Epoch: 300 \tLoss 0.28900236\n",
      "Epoch: 400 \tLoss 0.28290203\n",
      "Epoch: 500 \tLoss 0.27909532\n",
      "Epoch: 600 \tLoss 0.27724126\n",
      "Epoch: 700 \tLoss 0.2759253\n",
      "Epoch: 800 \tLoss 0.27476928\n",
      "Epoch: 900 \tLoss 0.27452445\n"
     ]
    }
   ],
   "source": [
    "n_spochs = 1000\n",
    "batch_size = 50\n",
    "n_batches = int(np.ceil(m/batch_size))\n",
    "\n",
    "with tf.Session() as sess:\n",
    "    sess.run(init)\n",
    "    \n",
    "    for epoch in range(n_epochs):\n",
    "        for batch_index in range(n_batches):\n",
    "            X_batch,y_batch = random_batch(X_train,y_train,batch_size)\n",
    "            sess.run(training_op,feed_dict = {X:X_batch,y:y_batch})\n",
    "        loss_val = loss.eval({X:X_test,y:y_test})\n",
    "        if epoch %100 ==0:\n",
    "            print('Epoch:',epoch,'\\tLoss',loss_val)\n",
    "    y_proba_val = y_proba.eval(feed_dict = {X:X_test,y:y_test})"
   ]
  },
  {
   "cell_type": "code",
   "execution_count": 101,
   "metadata": {},
   "outputs": [
    {
     "data": {
      "text/plain": [
       "array([[0.5491201 ],\n",
       "       [0.7082307 ],\n",
       "       [0.5188444 ],\n",
       "       [0.99159086],\n",
       "       [0.5077266 ]], dtype=float32)"
      ]
     },
     "execution_count": 101,
     "metadata": {},
     "output_type": "execute_result"
    }
   ],
   "source": [
    "y_proba_val[:5]"
   ]
  },
  {
   "cell_type": "code",
   "execution_count": 103,
   "metadata": {},
   "outputs": [
    {
     "data": {
      "text/plain": [
       "array([[ True],\n",
       "       [ True],\n",
       "       [ True],\n",
       "       [ True],\n",
       "       [ True]])"
      ]
     },
     "execution_count": 103,
     "metadata": {},
     "output_type": "execute_result"
    }
   ],
   "source": [
    "y_pred = (y_proba_val>=0.5)\n",
    "y_pred[:5]"
   ]
  },
  {
   "cell_type": "code",
   "execution_count": 106,
   "metadata": {},
   "outputs": [
    {
     "data": {
      "text/plain": [
       "0.8627450980392157"
      ]
     },
     "execution_count": 106,
     "metadata": {},
     "output_type": "execute_result"
    }
   ],
   "source": [
    "from sklearn.metrics import precision_score,recall_score\n",
    "precision_score(y_test,y_pred)"
   ]
  },
  {
   "cell_type": "code",
   "execution_count": 107,
   "metadata": {},
   "outputs": [
    {
     "data": {
      "text/plain": [
       "0.8888888888888888"
      ]
     },
     "execution_count": 107,
     "metadata": {},
     "output_type": "execute_result"
    }
   ],
   "source": [
    "recall_score(y_test,y_pred)"
   ]
  },
  {
   "cell_type": "code",
   "execution_count": 109,
   "metadata": {},
   "outputs": [
    {
     "data": {
      "image/png": "[encoded data removed]",
      "text/plain": [
       "<matplotlib.figure.Figure at 0x19ea6cc0>"
      ]
     },
     "metadata": {},
     "output_type": "display_data"
    }
   ],
   "source": [
    "y_pred_idx = y_pred.reshape(-1)\n",
    "plt.plot(X_test[y_pred_idx,1],X_test[y_pred_idx,2],'go',label = 'Positive')\n",
    "plt.plot(X_test[~y_pred_idx,1],X_test[~y_pred_idx,2],'ro',label = 'Negative')\n",
    "plt.legend()\n",
    "plt.show()\n"
   ]
  },
  {
   "cell_type": "code",
   "execution_count": 110,
   "metadata": {
    "collapsed": true
   },
   "outputs": [],
   "source": [
    "X_train_enhanced = np.c_[X_train,\n",
    "                        np.square(X_train[:,1]),\n",
    "                        np.square(X_train[:,2]),\n",
    "                        X_train[:,1]**3,\n",
    "                        X_train[:,2]**3]\n",
    "X_test_enhanced = np.c_[X_test,\n",
    "                        np.square(X_test[:,1]),\n",
    "                        np.square(X_test[:,2]),\n",
    "                        X_test[:,1]**3,\n",
    "                        X_test[:,2]**3]\n"
   ]
  },
  {
   "cell_type": "code",
   "execution_count": 111,
   "metadata": {},
   "outputs": [
    {
     "data": {
      "text/plain": [
       "array([[ 1.00000000e+00, -5.14696757e-02,  4.44198631e-01,\n",
       "         2.64912752e-03,  1.97312424e-01, -1.36349734e-04,\n",
       "         8.76459084e-02],\n",
       "       [ 1.00000000e+00,  1.03201691e+00, -4.19741157e-01,\n",
       "         1.06505890e+00,  1.76182639e-01,  1.09915879e+00,\n",
       "        -7.39511049e-02],\n",
       "       [ 1.00000000e+00,  8.67891864e-01, -2.54827114e-01,\n",
       "         7.53236288e-01,  6.49368582e-02,  6.53727646e-01,\n",
       "        -1.65476722e-02],\n",
       "       [ 1.00000000e+00,  2.88850997e-01, -4.48668621e-01,\n",
       "         8.34348982e-02,  2.01303531e-01,  2.41002535e-02,\n",
       "        -9.03185778e-02],\n",
       "       [ 1.00000000e+00, -8.33439108e-01,  5.35056649e-01,\n",
       "         6.94620746e-01,  2.86285618e-01, -5.78924095e-01,\n",
       "         1.53179024e-01]])"
      ]
     },
     "execution_count": 111,
     "metadata": {},
     "output_type": "execute_result"
    }
   ],
   "source": [
    "X_train_enhanced[:5]"
   ]
  },
  {
   "cell_type": "code",
   "execution_count": 112,
   "metadata": {
    "collapsed": true
   },
   "outputs": [],
   "source": [
    "reset_graph()"
   ]
  },
  {
   "cell_type": "code",
   "execution_count": 144,
   "metadata": {
    "collapsed": true
   },
   "outputs": [],
   "source": [
    "def logistic_regression(X, y, initializer=None, seed=42, learning_rate=0.01):\n",
    "    n_input_including_bias = int(X.get_shape()[1])\n",
    "    with tf.name_scope('logistic_regression'):\n",
    "        with tf.name_scope('model'):\n",
    "            if initializer is None:\n",
    "                initializer =tf.random_uniform([n_input_including_bias,1],-1.0,1.0,seed =seed)\n",
    "            theta = tf.Variable(initializer,name = 'theta')\n",
    "            logits = tf.matmul(X,theta,name='logits')\n",
    "            y_proba = tf.sigmoid(logits)\n",
    "        with tf.name_scope('train'):\n",
    "            loss = tf.losses.log_loss(y,y_proba,scope ='loss')\n",
    "            optimizer = tf.train.GradientDescentOptimizer(learning_rate= learning_rate)\n",
    "            training_op = optimizer.minimize(loss)\n",
    "            loss_summary = tf.summary.scalar('log_loss',loss)\n",
    "        with tf.name_scope('init'):\n",
    "            init = tf.global_variables_initializer()\n",
    "        with tf.name_scope('save'):\n",
    "            saver = tf.train.Saver()\n",
    "        return y_proba,loss,training_op,loss_summary,init,saver\n",
    "            \n"
   ]
  },
  {
   "cell_type": "code",
   "execution_count": 145,
   "metadata": {
    "collapsed": true
   },
   "outputs": [],
   "source": [
    "from datetime import datetime\n",
    "\n",
    "def log_dir(prefix = ''):\n",
    "    now =datetime.utcnow().strftime('%Y%m%d%H%M%S')\n",
    "    root_logidr = 'tf_logs'\n",
    "    if prefix:\n",
    "        prefix +='-'\n",
    "    name = prefix +'run-' + now\n",
    "    return '{}/{}'.format(root_logidr,name)"
   ]
  },
  {
   "cell_type": "code",
   "execution_count": 146,
   "metadata": {
    "collapsed": true
   },
   "outputs": [],
   "source": [
    "n_inputs =2+4\n",
    "logdir = log_dir('logreg')\n",
    "\n",
    "X = tf.placeholder(tf.float32,shape=(None,n_inputs+1),name = 'X')\n",
    "y = tf.placeholder(tf.float32,shape =(None,1),name = 'y')\n",
    "\n",
    "y_proba,loss,training_op,loss_summary,init,saver = logistic_regression(X,y)\n",
    "file_write = tf.summary.FileWriter(logdir,tf.get_default_graph())"
   ]
  },
  {
   "cell_type": "code",
   "execution_count": 170,
   "metadata": {},
   "outputs": [
    {
     "name": "stdout",
     "output_type": "stream",
     "text": [
      "Training was interrupted. Continuing at epoch  1501\n",
      "INFO:tensorflow:Restoring parameters from /tmp/my_logreg_model.ckpt\n",
      "Epoch: 2000 \tLoss 0.084552824\n",
      "Epoch: 2500 \tLoss 0.07493747\n",
      "Epoch: 3000 \tLoss 0.06792013\n",
      "Epoch: 3500 \tLoss 0.06252397\n",
      "Epoch: 4000 \tLoss 0.058237314\n",
      "Epoch: 4500 \tLoss 0.05475718\n",
      "Epoch: 5000 \tLoss 0.05186018\n",
      "Epoch: 5500 \tLoss 0.049406234\n",
      "Epoch: 6000 \tLoss 0.047332708\n",
      "Epoch: 6500 \tLoss 0.045510884\n",
      "Epoch: 7000 \tLoss 0.043883033\n",
      "Epoch: 7500 \tLoss 0.04244939\n",
      "Epoch: 8000 \tLoss 0.041191187\n",
      "Epoch: 8500 \tLoss 0.040040754\n",
      "Epoch: 9000 \tLoss 0.038988747\n",
      "Epoch: 9500 \tLoss 0.03804117\n",
      "Epoch: 10000 \tLoss 0.037181035\n"
     ]
    }
   ],
   "source": [
    "n_epochs = 10001\n",
    "batch_size = 50\n",
    "n_batches = int(np.ceil(m/batch_size))\n",
    "\n",
    "checkpoint_path ='/tmp/my_logreg_model.ckpt'\n",
    "checkpoint_epoch_path = checkpoint_path+'.epoch'\n",
    "final_model_path = './my_logreg_model'\n",
    "\n",
    "with tf.Session() as sess:\n",
    "    if os.path.isfile(checkpoint_epoch_path):\n",
    "        with open(checkpoint_epoch_path,'rb') as f:\n",
    "            start_opoch = int(f.read())\n",
    "        print('Training was interrupted. Continuing at epoch ',start_opoch)\n",
    "        saver.restore(sess,checkpoint_path)\n",
    "    else:\n",
    "        start_opoch = 0\n",
    "        sess.run(init)\n",
    "    for epoch in range(start_opoch,n_epochs):\n",
    "        for batch_index in range(n_batches):\n",
    "            X_batch,y_batch = random_batch(X_train_enhanced,y_train,batch_size)\n",
    "            sess.run(training_op, feed_dict={X: X_batch, y: y_batch})\n",
    "        loss_val,summary_str = sess.run([loss ,loss_summary],\n",
    "                                        feed_dict ={X:X_test_enhanced,y:y_test})\n",
    "        file_write.add_summary(summary_str,epoch)\n",
    "        if epoch%500==0:\n",
    "            print('Epoch:',epoch,'\\tLoss',loss_val)\n",
    "            saver.save(sess,checkpoint_path)\n",
    "            with open(checkpoint_epoch_path,'wb') as f:\n",
    "                f.write(b'%d'%(epoch+1))\n",
    "    \n",
    "    saver.save(sess,final_model_path)\n",
    "    y_proba_val = y_proba.eval(feed_dict ={X:X_test_enhanced,y:y_test})\n",
    "    os.remove(checkpoint_epoch_path)\n",
    "        \n",
    "        "
   ]
  },
  {
   "cell_type": "code",
   "execution_count": 156,
   "metadata": {
    "collapsed": true
   },
   "outputs": [],
   "source": [
    "y_pred = (y_proba_val>=0.5)"
   ]
  },
  {
   "cell_type": "code",
   "execution_count": 157,
   "metadata": {},
   "outputs": [
    {
     "data": {
      "text/plain": [
       "0.9797979797979798"
      ]
     },
     "execution_count": 157,
     "metadata": {},
     "output_type": "execute_result"
    }
   ],
   "source": [
    "precision_score(y_test,y_pred)"
   ]
  },
  {
   "cell_type": "code",
   "execution_count": 159,
   "metadata": {},
   "outputs": [
    {
     "data": {
      "text/plain": [
       "0.9797979797979798"
      ]
     },
     "execution_count": 159,
     "metadata": {},
     "output_type": "execute_result"
    }
   ],
   "source": [
    "recall_score(y_test,y_pred)"
   ]
  },
  {
   "cell_type": "code",
   "execution_count": 161,
   "metadata": {},
   "outputs": [
    {
     "data": {
      "image/png": "[encoded data removed]",
      "text/plain": [
       "<matplotlib.figure.Figure at 0x17df5898>"
      ]
     },
     "metadata": {},
     "output_type": "display_data"
    }
   ],
   "source": [
    "y_pred_idx = y_pred.reshape(-1)\n",
    "plt.plot(X_test[y_pred_idx,1],X_test[y_pred_idx,2],'go',label = 'Positive')\n",
    "plt.plot(X_test[~y_pred_idx,1],X_test[~y_pred_idx,2],'ro',label ='Negative')\n",
    "plt.legend()\n",
    "plt.show()"
   ]
  },
  {
   "cell_type": "code",
   "execution_count": 171,
   "metadata": {},
   "outputs": [
    {
     "name": "stdout",
     "output_type": "stream",
     "text": [
      "Iteration 0\n",
      "  logdir: tf_logs/logreg-run-20181202125036\n",
      "  batch size: 94\n",
      "  learning_rate: 0.004430375245218265\n",
      "  training: .....................\n",
      "  precision: 0.9797979797979798\n",
      "  recall: 0.9797979797979798\n",
      "Iteration 1\n",
      "  logdir: tf_logs/logreg-run-20181202125131\n",
      "  batch size: 31\n",
      "  learning_rate: 0.0017826497151386947\n",
      "  training: .....................\n",
      "  precision: 0.9797979797979798\n",
      "  recall: 0.9797979797979798\n",
      "Iteration 2\n",
      "  logdir: tf_logs/logreg-run-20181202125356\n",
      "  batch size: 56\n",
      "  learning_rate: 0.00203228544324115\n",
      "  training: .....................\n",
      "  precision: 0.9696969696969697\n",
      "  recall: 0.9696969696969697\n",
      "Iteration 3\n",
      "  logdir: tf_logs/logreg-run-20181202125517\n",
      "  batch size: 51\n",
      "  learning_rate: 0.004491523825137997\n",
      "  training: .....................\n",
      "  precision: 0.9797979797979798\n",
      "  recall: 0.9797979797979798\n",
      "Iteration 4\n",
      "  logdir: tf_logs/logreg-run-20181202125649\n",
      "  batch size: 62\n",
      "  learning_rate: 0.07963234721775589\n",
      "  training: .....................\n",
      "  precision: 0.9801980198019802\n",
      "  recall: 1.0\n",
      "Iteration 5\n",
      "  logdir: tf_logs/logreg-run-20181202125807\n",
      "  batch size: 37\n",
      "  learning_rate: 0.0004634250583294876\n",
      "  training: .....................\n",
      "  precision: 0.95\n",
      "  recall: 0.9595959595959596\n",
      "Iteration 6\n",
      "  logdir: tf_logs/logreg-run-20181202130012\n",
      "  batch size: 85\n",
      "  learning_rate: 0.047706818419354494\n",
      "  training: .....................\n",
      "  precision: 0.98\n",
      "  recall: 0.98989898989899\n",
      "Iteration 7\n",
      "  logdir: tf_logs/logreg-run-20181202130108\n",
      "  batch size: 62\n",
      "  learning_rate: 0.0001694044709524274\n",
      "  training: .....................\n",
      "  precision: 0.8913043478260869\n",
      "  recall: 0.8282828282828283\n",
      "Iteration 8\n",
      "  logdir: tf_logs/logreg-run-20181202130224\n",
      "  batch size: 37\n",
      "  learning_rate: 0.04171461199412461\n",
      "  training: .....................\n",
      "  precision: 0.9801980198019802\n",
      "  recall: 1.0\n",
      "Iteration 9\n",
      "  logdir: tf_logs/logreg-run-20181202130422\n",
      "  batch size: 85\n",
      "  learning_rate: 0.00010742922968438615\n",
      "  training: .....................\n",
      "  precision: 0.8823529411764706\n",
      "  recall: 0.7575757575757576\n"
     ]
    }
   ],
   "source": [
    "from scipy.stats import reciprocal\n",
    "\n",
    "n_search_iterations = 10\n",
    "\n",
    "for search_iteration in range(n_search_iterations):\n",
    "    batch_size = np.random.randint(1, 100)\n",
    "    learning_rate = reciprocal(0.0001, 0.1).rvs(random_state=search_iteration)\n",
    "\n",
    "    n_inputs = 2 + 4\n",
    "    logdir = log_dir(\"logreg\")\n",
    "    \n",
    "    print(\"Iteration\", search_iteration)\n",
    "    print(\"  logdir:\", logdir)\n",
    "    print(\"  batch size:\", batch_size)\n",
    "    print(\"  learning_rate:\", learning_rate)\n",
    "    print(\"  training: \", end=\"\")\n",
    "\n",
    "    reset_graph()\n",
    "\n",
    "    X = tf.placeholder(tf.float32, shape=(None, n_inputs + 1), name=\"X\")\n",
    "    y = tf.placeholder(tf.float32, shape=(None, 1), name=\"y\")\n",
    "\n",
    "    y_proba, loss, training_op, loss_summary, init, saver = logistic_regression(\n",
    "        X, y, learning_rate=learning_rate)\n",
    "\n",
    "    file_writer = tf.summary.FileWriter(logdir, tf.get_default_graph())\n",
    "\n",
    "    n_epochs = 10001\n",
    "    n_batches = int(np.ceil(m / batch_size))\n",
    "\n",
    "    final_model_path = \"./my_logreg_model_%d\" % search_iteration\n",
    "\n",
    "    with tf.Session() as sess:\n",
    "        sess.run(init)\n",
    "\n",
    "        for epoch in range(n_epochs):\n",
    "            for batch_index in range(n_batches):\n",
    "                X_batch, y_batch = random_batch(X_train_enhanced, y_train, batch_size)\n",
    "                sess.run(training_op, feed_dict={X: X_batch, y: y_batch})\n",
    "            loss_val, summary_str = sess.run([loss, loss_summary], feed_dict={X: X_test_enhanced, y: y_test})\n",
    "            file_writer.add_summary(summary_str, epoch)\n",
    "            if epoch % 500 == 0:\n",
    "                print(\".\", end=\"\")\n",
    "\n",
    "        saver.save(sess, final_model_path)\n",
    "\n",
    "        print()\n",
    "        y_proba_val = y_proba.eval(feed_dict={X: X_test_enhanced, y: y_test})\n",
    "        y_pred = (y_proba_val >= 0.5)\n",
    "        \n",
    "        print(\"  precision:\", precision_score(y_test, y_pred))\n",
    "        print(\"  recall:\", recall_score(y_test, y_pred))"
   ]
  },
  {
   "cell_type": "code",
   "execution_count": null,
   "metadata": {
    "collapsed": true
   },
   "outputs": [],
   "source": []
  }
 ],
 "metadata": {
  "kernelspec": {
   "display_name": "Python 3",
   "language": "python",
   "name": "python3"
  },
  "language_info": {
   "codemirror_mode": {
    "name": "ipython",
    "version": 3
   },
   "file_extension": ".py",
   "mimetype": "text/x-python",
   "name": "python",
   "nbconvert_exporter": "python",
   "pygments_lexer": "ipython3",
   "version": "3.6.3"
  }
 },
 "nbformat": 4,
 "nbformat_minor": 2
}
